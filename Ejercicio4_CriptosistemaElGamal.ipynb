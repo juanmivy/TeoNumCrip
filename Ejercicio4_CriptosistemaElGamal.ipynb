{
 "cells": [
  {
   "cell_type": "markdown",
   "metadata": {},
   "source": [
    "#Ejercicio 4# Juan Miguel Villegas Yeguas\n",
    "\n",
    "Los parámetros de un criptosistema ElGamal son p=211 y g=3, la clave publica empleada es $3^a$=109 mod 211.\n",
    "Descifra el criptograma (154, dni mod 211)"
   ]
  },
  {
   "cell_type": "code",
   "execution_count": 1,
   "metadata": {},
   "outputs": [],
   "source": [
    "p=211\n",
    "g=3\n",
    "f=floor((p-1).isqrt())"
   ]
  },
  {
   "cell_type": "code",
   "execution_count": 2,
   "metadata": {},
   "outputs": [],
   "source": [
    "tabla=[]"
   ]
  },
  {
   "cell_type": "code",
   "execution_count": 3,
   "metadata": {},
   "outputs": [
    {
     "name": "stdout",
     "output_type": "stream",
     "text": [
      "[[0, 1], [1, 3], [2, 9], [3, 27], [4, 81], [5, 32], [6, 96], [7, 77], [8, 20], [9, 60], [10, 180], [11, 118], [12, 143], [13, 7]]\n"
     ]
    }
   ],
   "source": [
    "for i in range(0,f):\n",
    "    tabla+=[[i,power_mod(g,i,p)]]\n",
    "print(tabla)"
   ]
  },
  {
   "cell_type": "code",
   "execution_count": 4,
   "metadata": {},
   "outputs": [
    {
     "name": "stdout",
     "output_type": "stream",
     "text": [
      "201\n"
     ]
    }
   ],
   "source": [
    "bf=power_mod(g,p-1-f,p)\n",
    "print(bf)"
   ]
  },
  {
   "cell_type": "code",
   "execution_count": 5,
   "metadata": {},
   "outputs": [],
   "source": [
    "i=0\n",
    "h=109"
   ]
  },
  {
   "cell_type": "code",
   "execution_count": 11,
   "metadata": {},
   "outputs": [
    {
     "name": "stdout",
     "output_type": "stream",
     "text": [
      "6 143\n"
     ]
    }
   ],
   "source": [
    "i=i+1\n",
    "h=(h*bf).mod(p)\n",
    "print(i,h)"
   ]
  },
  {
   "cell_type": "markdown",
   "metadata": {},
   "source": [
    "Como 143 esta en la tabla"
   ]
  },
  {
   "cell_type": "code",
   "execution_count": 12,
   "metadata": {},
   "outputs": [
    {
     "name": "stdout",
     "output_type": "stream",
     "text": [
      "96\n"
     ]
    }
   ],
   "source": [
    "a= 12+6*f\n",
    "print(a)"
   ]
  },
  {
   "cell_type": "code",
   "execution_count": 13,
   "metadata": {},
   "outputs": [
    {
     "data": {
      "text/plain": [
       "True"
      ]
     },
     "execution_count": 13,
     "metadata": {},
     "output_type": "execute_result"
    }
   ],
   "source": [
    "power_mod(3,96,p)==109"
   ]
  },
  {
   "cell_type": "markdown",
   "metadata": {},
   "source": [
    "Descifremos el siguiente criptograma"
   ]
  },
  {
   "cell_type": "code",
   "execution_count": 15,
   "metadata": {},
   "outputs": [
    {
     "name": "stdout",
     "output_type": "stream",
     "text": [
      "[154, 81]\n"
     ]
    }
   ],
   "source": [
    "criptograma=[154,(77021622).mod(p)]\n",
    "print(criptograma)"
   ]
  },
  {
   "cell_type": "markdown",
   "metadata": {},
   "source": [
    "Como ya conocemos toda la clave pública podemos descifrar el criptograma de ElGamal"
   ]
  },
  {
   "cell_type": "code",
   "execution_count": 16,
   "metadata": {},
   "outputs": [],
   "source": [
    "def descifrado(criptograma):\n",
    "    return((criptograma[1]*power_mod(criptograma[0],p-1-a,p)).mod(p))"
   ]
  },
  {
   "cell_type": "code",
   "execution_count": 17,
   "metadata": {},
   "outputs": [
    {
     "data": {
      "text/plain": [
       "161"
      ]
     },
     "execution_count": 17,
     "metadata": {},
     "output_type": "execute_result"
    }
   ],
   "source": [
    "descifrado(criptograma)"
   ]
  },
  {
   "cell_type": "markdown",
   "metadata": {},
   "source": [
    "Vamos a calcular el logaritmo discreto de una segunda forma, con el algoritmo de Silver-Pohling-Hellman:\n"
   ]
  },
  {
   "cell_type": "code",
   "execution_count": 1,
   "metadata": {},
   "outputs": [],
   "source": [
    "p = 211\n",
    "g = 700\n",
    "n = p-1"
   ]
  },
  {
   "cell_type": "code",
   "execution_count": 2,
   "metadata": {},
   "outputs": [
    {
     "name": "stdout",
     "output_type": "stream",
     "text": [
      "[(2, 1), (3, 1), (5, 1), (7, 1)]\n"
     ]
    }
   ],
   "source": [
    "lista_factores = list((n).factor())\n",
    "print(lista_factores)"
   ]
  },
  {
   "cell_type": "code",
   "execution_count": 3,
   "metadata": {},
   "outputs": [
    {
     "name": "stdout",
     "output_type": "stream",
     "text": [
      "[[1, 210], [1, 1, 1], [1, 1, 1, 1, 1], [1, 58, 199, 148, 144, 123, 171]]\n"
     ]
    }
   ],
   "source": [
    "\n",
    "raices = []\n",
    "for i in range(len(lista_factores)):\n",
    "    p_, e_ = lista_factores[i][0], lista_factores[i][1]\n",
    "    aux = []\n",
    "    for j in range(p_):\n",
    "        aux += [g.powermod(j*n/p_,p)]\n",
    "    raices += [aux]\n",
    "print(raices)"
   ]
  },
  {
   "cell_type": "code",
   "execution_count": 24,
   "metadata": {},
   "outputs": [
    {
     "name": "stdout",
     "output_type": "stream",
     "text": [
      "109\n"
     ]
    }
   ],
   "source": [
    "h = 109\n",
    "print(h)"
   ]
  },
  {
   "cell_type": "code",
   "execution_count": 26,
   "metadata": {},
   "outputs": [
    {
     "name": "stdout",
     "output_type": "stream",
     "text": [
      "[0, 0, 1, 5]\n"
     ]
    }
   ],
   "source": [
    "m = []\n",
    "for i in range(len(lista_factores)):\n",
    "    p_, e_ = lista_factores[i][0], lista_factores[i][1]\n",
    "    x = []\n",
    "    for k in range(e_):\n",
    "        y = h * g.powermod(sum(x[l]*p_^ll for l in range(k)),p).inverse_mod(p)\n",
    "        x += [raices[i].index(y.powermod(n/p_^(k+1),p))]\n",
    "    m += [sum(x[l]*p_^l for l in range(e_))]\n",
    "print(m)"
   ]
  },
  {
   "cell_type": "code",
   "execution_count": 27,
   "metadata": {},
   "outputs": [
    {
     "name": "stdout",
     "output_type": "stream",
     "text": [
      "96\n"
     ]
    }
   ],
   "source": [
    "a = CRT(m,[pair[0]^pair[1] for pair in lista_factores])\n",
    "print(a)"
   ]
  },
  {
   "cell_type": "code",
   "execution_count": null,
   "metadata": {},
   "outputs": [],
   "source": []
  }
 ],
 "metadata": {
  "kernelspec": {
   "display_name": "SageMath 9.0",
   "language": "sage",
   "name": "sagemath"
  },
  "language_info": {
   "codemirror_mode": {
    "name": "ipython",
    "version": 3
   },
   "file_extension": ".py",
   "mimetype": "text/x-python",
   "name": "python",
   "nbconvert_exporter": "python",
   "pygments_lexer": "ipython3",
   "version": "3.8.2"
  }
 },
 "nbformat": 4,
 "nbformat_minor": 4
}
