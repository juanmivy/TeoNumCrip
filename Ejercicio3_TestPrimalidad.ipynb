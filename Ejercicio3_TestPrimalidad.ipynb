{
 "cells": [
  {
   "cell_type": "markdown",
   "metadata": {},
   "source": [
    "#Ejercicio 3#\n",
    "\n",
    "Dado n=35192542260449830245251842461649.\n",
    "\n",
    "Apartado 1.- Calcula $a^{n-1}$ mod $n$ para $a=2,3,5,7,11$"
   ]
  },
  {
   "cell_type": "code",
   "execution_count": 2,
   "metadata": {},
   "outputs": [
    {
     "name": "stdout",
     "output_type": "stream",
     "text": [
      "Iteracion 105 : 2 ^ 35192542260449830245251842461648 mod 35192542260449830245251842461649 = 1\n",
      "Iteracion 105 : 3 ^ 29820265313596319642609182351265 mod 35192542260449830245251842461649 = 1\n",
      "Iteracion 105 : 5 ^ 26231507595839827071184466582685 mod 35192542260449830245251842461649 = 1\n",
      "Iteracion 105 : 7 ^ 24229969066276281376266914802648 mod 35192542260449830245251842461649 = 1\n",
      "Iteracion 105 : 11 ^ 8412533219486003826045802540687 mod 35192542260449830245251842461649 = 1\n"
     ]
    }
   ],
   "source": [
    "n=35192542260449830245251842461649\n",
    "#n-1 en base 2 viene representado por:\n",
    "num=(n-1).digits(2)\n",
    "num.reverse()\n",
    "acu=1\n",
    "ex=0\n",
    "#Realizamos el algoritmo para la base a=2\n",
    "base=[2,3,5,7,11]\n",
    "for j in base:\n",
    "    paso=0\n",
    "    for i in num:\n",
    "        paso=paso+1\n",
    "        acu=(acu*acu)%n\n",
    "        ex=(2*ex)%n\n",
    "\n",
    "        if i%2==1:\n",
    "            acu=(acu*j)%n\n",
    "            ex=(ex+1)%n\n",
    "    print('Iteracion',paso ,':' ,j,'^',ex ,'mod', n, '=', acu)"
   ]
  },
  {
   "cell_type": "markdown",
   "metadata": {},
   "source": [
    "Apartado 2.-Discute si para alguna de esas bases tu número sale posible primo de Fermat, o posible primo de\n",
    "Euler o posible primo fuerte."
   ]
  },
  {
   "cell_type": "markdown",
   "metadata": {},
   "source": [
    "Como $a^{n-1} \\equiv 1$ mod $n$ para todos los valores de $a$ probados entonces podemos asegurar que $n$ es un posible primo de Fermat."
   ]
  },
  {
   "cell_type": "markdown",
   "metadata": {},
   "source": [
    "Para ver si $n$ es posible primo de Euler ha de verificarse $ (\\frac{a}{n}) \\equiv a^{(n-1)/2} $ mod $n$, calculemos primeros los simbolos de Jacobi"
   ]
  },
  {
   "cell_type": "code",
   "execution_count": 3,
   "metadata": {},
   "outputs": [],
   "source": [
    "#Para facilitar las cosas nos hacemos una función que implemente la exponenciación rápida#\n",
    "def exp_rapida(base,exponente,n):\n",
    "    acu=1\n",
    "    ex=0\n",
    "    paso=0\n",
    "    num=exponente.digits(2)\n",
    "    num.reverse()\n",
    "    for i in num:\n",
    "        paso=paso+1\n",
    "        acu=(acu*acu)%n\n",
    "        ex=(2*ex)%n\n",
    "        \n",
    "        if i%2==1:\n",
    "            acu=(acu*base)%n\n",
    "            ex=(ex+1)%n\n",
    "    if(acu+1==n):\n",
    "        acu=-1\n",
    "    return (acu)"
   ]
  },
  {
   "cell_type": "code",
   "execution_count": 1,
   "metadata": {},
   "outputs": [],
   "source": [
    "##Esta funcion es como la de arriba pero vamos almacenando los valores en una lista\n",
    "##para luego obtener la a-sucesión\n",
    "def exp_rapida_lista(base,exponente,n):\n",
    "    tabla=[]\n",
    "    acu=1\n",
    "    ex=0\n",
    "    paso=0\n",
    "    num=exponente.digits(2)\n",
    "    num.reverse()\n",
    "    for i in num:\n",
    "        paso=paso+1\n",
    "        acu=(acu*acu)%n\n",
    "        ex=(2*ex)%n\n",
    "        \n",
    "        if i%2==1:\n",
    "            acu=(acu*base)%n\n",
    "            ex=(ex+1)%n\n",
    "        if(acu+1==n):\n",
    "            acu=-1\n",
    "        tabla=tabla+[acu]\n",
    "    return (tabla)"
   ]
  },
  {
   "cell_type": "markdown",
   "metadata": {},
   "source": [
    "El simbolo de Jacobi viene implementado en sage (en la teoría esta como se hace)"
   ]
  },
  {
   "cell_type": "code",
   "execution_count": 50,
   "metadata": {},
   "outputs": [
    {
     "name": "stdout",
     "output_type": "stream",
     "text": [
      "1 1\n",
      "n es posible primo de Euler para la base 2\n",
      "1 1\n",
      "n es posible primo de Euler para la base 3\n",
      "1 1\n",
      "n es posible primo de Euler para la base 5\n",
      "-1 -1\n",
      "n es posible primo de Euler para la base 7\n",
      "1 1\n",
      "n es posible primo de Euler para la base 11\n"
     ]
    }
   ],
   "source": [
    "r=(n-1)/2\n",
    "for j in base:\n",
    "    print(kronecker(j,n),exp_rapida(j,r,n))\n",
    "    if (kronecker(j,n)==exp_rapida(j,r,n)):\n",
    "        print('n es posible primo de Euler para la base',j)\n",
    "    else:\n",
    "        print('n no es posible primo de Euler para la base',j)\n",
    "        "
   ]
  },
  {
   "cell_type": "markdown",
   "metadata": {},
   "source": [
    "Para ver si es un posible primo fuerte obtenemos las $a$-sucesiones con $a=2,3,5,7,11$ "
   ]
  },
  {
   "cell_type": "code",
   "execution_count": 7,
   "metadata": {},
   "outputs": [],
   "source": [
    "def a_sucesion(base,n):\n",
    "    #Saquemos la longitud de la a-sucesion\n",
    "    len((n-1).digits(2))\n",
    "    (n-1).digits(2)\n",
    "    contador=0\n",
    "    for i in srange(0,20):#ESTO SE PUEDE HACER MAS EFICIENTE PERO ASI NOS VALE\n",
    "        if (n-1).digits(2)[i]==0:\n",
    "            contador=contador+1\n",
    "        if (n-1).digits(2)[i]==1:\n",
    "            contador=contador+1\n",
    "            break\n",
    "    #La longitud es contador, luego, tenemos que imprimir los ultimos términos que diga contador\n",
    "    resultado=exp_rapida_lista(base,n-1,n)[-contador:]\n",
    "    return (resultado)"
   ]
  },
  {
   "cell_type": "markdown",
   "metadata": {},
   "source": [
    "Mostramos la a-sucesiones:"
   ]
  },
  {
   "cell_type": "code",
   "execution_count": 11,
   "metadata": {},
   "outputs": [
    {
     "name": "stdout",
     "output_type": "stream",
     "text": [
      "Para la base 2 la sucesión es:\n",
      "[33145564573468132540818692626854, 12275125125155164625395096741995, -1, 1, 1]\n",
      "\n",
      "Para la base 3 la sucesión es:\n",
      "[-1, 1, 1, 1, 1]\n",
      "\n",
      "Para la base 5 la sucesión es:\n",
      "[33145564573468132540818692626854, 12275125125155164625395096741995, -1, 1, 1]\n",
      "\n",
      "Para la base 7 la sucesión es:\n",
      "[11497896501791196973342351854707, 33145564573468132540818692626854, 12275125125155164625395096741995, -1, 1]\n",
      "\n",
      "Para la base 11 la sucesión es:\n",
      "[12275125125155164625395096741995, -1, 1, 1, 1]\n",
      "\n"
     ]
    }
   ],
   "source": [
    "\n",
    "for i in base:\n",
    "    print('Para la base', i, 'la sucesión es:')\n",
    "    print(a_sucesion(i,n))\n",
    "    print()"
   ]
  },
  {
   "cell_type": "markdown",
   "metadata": {},
   "source": [
    "Como en todos los casos el -1 va antes que el uno se verifica que el n es pseudoprimo fuerte para las bases anteriores."
   ]
  },
  {
   "cell_type": "code",
   "execution_count": null,
   "metadata": {},
   "outputs": [],
   "source": []
  }
 ],
 "metadata": {
  "kernelspec": {
   "display_name": "SageMath 9.0",
   "language": "sage",
   "name": "sagemath"
  },
  "language_info": {
   "codemirror_mode": {
    "name": "ipython",
    "version": 3
   },
   "file_extension": ".py",
   "mimetype": "text/x-python",
   "name": "python",
   "nbconvert_exporter": "python",
   "pygments_lexer": "ipython3",
   "version": "3.8.2"
  }
 },
 "nbformat": 4,
 "nbformat_minor": 4
}
