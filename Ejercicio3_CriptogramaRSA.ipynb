{
 "cells": [
  {
   "cell_type": "markdown",
   "metadata": {},
   "source": [
    "Juan Miguel Villegas Yeguas---Teoría de Números y Criptografía---Ejercicio RSA"
   ]
  },
  {
   "cell_type": "markdown",
   "metadata": {},
   "source": [
    "Mi DNI es 77021622, lo partimos en dos bloques"
   ]
  },
  {
   "cell_type": "code",
   "execution_count": 1,
   "metadata": {},
   "outputs": [],
   "source": [
    "bloque1=7702\n",
    "bloque2=1622"
   ]
  },
  {
   "cell_type": "markdown",
   "metadata": {},
   "source": [
    "Ambos bloques son mayores que 1000, luego continuamos, como los dos bloques son pares\n",
    "nuestro p y q serán los primos más cercanos. "
   ]
  },
  {
   "cell_type": "code",
   "execution_count": 2,
   "metadata": {},
   "outputs": [
    {
     "name": "stdout",
     "output_type": "stream",
     "text": [
      "7703 1627\n"
     ]
    }
   ],
   "source": [
    "p=next_prime(bloque1)\n",
    "q=next_prime(bloque2)\n",
    "print (p,q)"
   ]
  },
  {
   "cell_type": "markdown",
   "metadata": {},
   "source": [
    "En mi caso p=7703 y q=1627"
   ]
  },
  {
   "cell_type": "markdown",
   "metadata": {},
   "source": [
    "Consideramos n=p*q y buscamos el menor primo mayor que 11 que sea primo relaticos con \n",
    "phi(n)"
   ]
  },
  {
   "cell_type": "code",
   "execution_count": 3,
   "metadata": {},
   "outputs": [
    {
     "name": "stdout",
     "output_type": "stream",
     "text": [
      "12532781 12523452\n"
     ]
    }
   ],
   "source": [
    "n=p*q\n",
    "phi=n+1-(p+q)\n",
    "print (n,phi)"
   ]
  },
  {
   "cell_type": "code",
   "execution_count": 4,
   "metadata": {},
   "outputs": [
    {
     "data": {
      "text/plain": [
       "1"
      ]
     },
     "execution_count": 4,
     "metadata": {},
     "output_type": "execute_result"
    }
   ],
   "source": [
    "11.gcd(phi)"
   ]
  },
  {
   "cell_type": "markdown",
   "metadata": {},
   "source": [
    "Tenemos que n=12532781 y phi(n)=12523452, hemos comprobado que 11 es primo relativo con phi, tomamos e=11"
   ]
  },
  {
   "cell_type": "code",
   "execution_count": 5,
   "metadata": {},
   "outputs": [],
   "source": [
    "e=11"
   ]
  },
  {
   "cell_type": "markdown",
   "metadata": {},
   "source": [
    "Ahora calculamos el inverso de e modulo phi(n)"
   ]
  },
  {
   "cell_type": "code",
   "execution_count": 6,
   "metadata": {},
   "outputs": [
    {
     "name": "stdout",
     "output_type": "stream",
     "text": [
      "3415487\n"
     ]
    }
   ],
   "source": [
    "d=inverse_mod(e,phi)\n",
    "print(d)"
   ]
  },
  {
   "cell_type": "markdown",
   "metadata": {},
   "source": [
    "Comprobamos que lo hemos calculado bien"
   ]
  },
  {
   "cell_type": "code",
   "execution_count": 7,
   "metadata": {},
   "outputs": [
    {
     "data": {
      "text/plain": [
       "1"
      ]
     },
     "execution_count": 7,
     "metadata": {},
     "output_type": "execute_result"
    }
   ],
   "source": [
    "(e*d)%phi"
   ]
  },
  {
   "cell_type": "markdown",
   "metadata": {},
   "source": [
    "Comenzamos con los apartados el ejercicio"
   ]
  },
  {
   "cell_type": "markdown",
   "metadata": {},
   "source": [
    "#Apartado 1#\n",
    "\n",
    "Introducimos el mensaje y lo ciframos con la función de cifrado de RSA"
   ]
  },
  {
   "cell_type": "code",
   "execution_count": 8,
   "metadata": {},
   "outputs": [],
   "source": [
    "m=0xcafe"
   ]
  },
  {
   "cell_type": "markdown",
   "metadata": {},
   "source": [
    "Definimos la función de cifrado de RSA"
   ]
  },
  {
   "cell_type": "code",
   "execution_count": 9,
   "metadata": {},
   "outputs": [],
   "source": [
    "def RSA_cifrado(m,e,n):\n",
    "    cifrado=power_mod(m,e,n)\n",
    "    return cifrado;"
   ]
  },
  {
   "cell_type": "markdown",
   "metadata": {},
   "source": [
    "Nuestro criptograma viene dado por"
   ]
  },
  {
   "cell_type": "code",
   "execution_count": 10,
   "metadata": {},
   "outputs": [
    {
     "data": {
      "text/plain": [
       "'0x1eefcd'"
      ]
     },
     "execution_count": 10,
     "metadata": {},
     "output_type": "execute_result"
    }
   ],
   "source": [
    "clave=RSA_cifrado(m,e,n)\n",
    "'0x'+clave.hex()"
   ]
  },
  {
   "cell_type": "markdown",
   "metadata": {},
   "source": [
    "#Apartado 2#\n",
    "\n",
    "Vamos a descifrar el criptograma anterior, para ello, definimos la función de descifrado de RSA"
   ]
  },
  {
   "cell_type": "code",
   "execution_count": 11,
   "metadata": {},
   "outputs": [],
   "source": [
    "def RSA_descifrado(c,e,n):\n",
    "    d=inverse_mod(e,euler_phi(n))\n",
    "    descifrado=power_mod(c,d,n)\n",
    "    return descifrado;"
   ]
  },
  {
   "cell_type": "markdown",
   "metadata": {},
   "source": [
    "El mensaje original viene dado por"
   ]
  },
  {
   "cell_type": "code",
   "execution_count": 12,
   "metadata": {},
   "outputs": [
    {
     "data": {
      "text/plain": [
       "'0xcafe'"
      ]
     },
     "execution_count": 12,
     "metadata": {},
     "output_type": "execute_result"
    }
   ],
   "source": [
    "mensaje=RSA_descifrado(clave,e,n)\n",
    "'0x'+mensaje.hex()"
   ]
  },
  {
   "cell_type": "markdown",
   "metadata": {},
   "source": [
    "#Apartado 3#\n",
    "\n",
    "Vamos a intentar factorizar n mediante el método P-1 de Pollard llegando como máximo a b=8"
   ]
  },
  {
   "cell_type": "code",
   "execution_count": 13,
   "metadata": {},
   "outputs": [
    {
     "data": {
      "text/plain": [
       "1"
      ]
     },
     "execution_count": 13,
     "metadata": {},
     "output_type": "execute_result"
    }
   ],
   "source": [
    "b=1\n",
    "m=2\n",
    "a=m.powermod(b,n)\n",
    "(a-1).gcd(n)"
   ]
  },
  {
   "cell_type": "markdown",
   "metadata": {},
   "source": [
    "Como vale el mcd de a-1 y n es 1 vamos probando con otro b"
   ]
  },
  {
   "cell_type": "code",
   "execution_count": 20,
   "metadata": {},
   "outputs": [
    {
     "name": "stdout",
     "output_type": "stream",
     "text": [
      "8 1606542\n",
      "1\n"
     ]
    }
   ],
   "source": [
    "b+=1\n",
    "a=a.powermod(b,n)\n",
    "print(b,a)\n",
    "print((a-1).gcd(n))"
   ]
  },
  {
   "cell_type": "markdown",
   "metadata": {},
   "source": [
    "Como hemos llegado a b=8 y no hemos encontrado ningún factor, volvemos a hacer el mismo proceso con m=3"
   ]
  },
  {
   "cell_type": "code",
   "execution_count": 21,
   "metadata": {},
   "outputs": [
    {
     "data": {
      "text/plain": [
       "1"
      ]
     },
     "execution_count": 21,
     "metadata": {},
     "output_type": "execute_result"
    }
   ],
   "source": [
    "3.gcd(n)"
   ]
  },
  {
   "cell_type": "markdown",
   "metadata": {},
   "source": [
    "Tomamos m=3 y repetimos el algoritmo"
   ]
  },
  {
   "cell_type": "code",
   "execution_count": 22,
   "metadata": {},
   "outputs": [
    {
     "data": {
      "text/plain": [
       "1"
      ]
     },
     "execution_count": 22,
     "metadata": {},
     "output_type": "execute_result"
    }
   ],
   "source": [
    "b=1\n",
    "m=3\n",
    "a=m.powermod(b,n)\n",
    "(a-1).gcd(n)"
   ]
  },
  {
   "cell_type": "code",
   "execution_count": 29,
   "metadata": {},
   "outputs": [
    {
     "name": "stdout",
     "output_type": "stream",
     "text": [
      "8 7901858\n",
      "1\n"
     ]
    }
   ],
   "source": [
    "b+=1\n",
    "a=a.powermod(b,n)\n",
    "print(b,a)\n",
    "print((a-1).gcd(n))"
   ]
  },
  {
   "cell_type": "markdown",
   "metadata": {},
   "source": [
    "Volvemos a hacer otra eleción de m con el mismo critero que antes y despues ejecutamos el algoritmo\n",
    "hasta que encontremos un factor de n"
   ]
  },
  {
   "cell_type": "code",
   "execution_count": 30,
   "metadata": {},
   "outputs": [
    {
     "data": {
      "text/plain": [
       "1"
      ]
     },
     "execution_count": 30,
     "metadata": {},
     "output_type": "execute_result"
    }
   ],
   "source": [
    "4.gcd(n)"
   ]
  },
  {
   "cell_type": "code",
   "execution_count": 31,
   "metadata": {},
   "outputs": [
    {
     "data": {
      "text/plain": [
       "1"
      ]
     },
     "execution_count": 31,
     "metadata": {},
     "output_type": "execute_result"
    }
   ],
   "source": [
    "b=1\n",
    "m=4\n",
    "a=m.powermod(b,n)\n",
    "(a-1).gcd(n)"
   ]
  },
  {
   "cell_type": "code",
   "execution_count": 38,
   "metadata": {},
   "outputs": [
    {
     "name": "stdout",
     "output_type": "stream",
     "text": [
      "8 1344186\n",
      "1\n"
     ]
    }
   ],
   "source": [
    "b+=1\n",
    "a=a.powermod(b,n)\n",
    "print(b,a)\n",
    "print((a-1).gcd(n))"
   ]
  },
  {
   "cell_type": "markdown",
   "metadata": {},
   "source": [
    "Para agilizar el proceso implementemos el siguiente bucle"
   ]
  },
  {
   "cell_type": "code",
   "execution_count": 39,
   "metadata": {},
   "outputs": [
    {
     "name": "stdout",
     "output_type": "stream",
     "text": [
      "264 9425212 3\n",
      "Uno de los factores de n es:\n",
      "1627\n"
     ]
    }
   ],
   "source": [
    "parada=false\n",
    "for i in IntegerRange(5,300):\n",
    "    if i.gcd(n)==1:\n",
    "        m=i\n",
    "        b=1\n",
    "        a=m.powermod(b,n)\n",
    "        if((a-1).gcd(n) !=1):\n",
    "            print (i,a,b)\n",
    "            print ((a-1).gcd(n))\n",
    "            parada=true\n",
    "        if parada==true:\n",
    "            break\n",
    "        for b in [2,3,4,5,6,7,8]:\n",
    "            a=a.powermod(b,n)\n",
    "            if (a-1).gcd(n)!=1:\n",
    "                print(i,a,b)\n",
    "                print('Uno de los factores de n es:') \n",
    "                print((a-1).gcd(n))\n",
    "                parada=true\n",
    "                break\n",
    "        if parada==true:\n",
    "            break"
   ]
  },
  {
   "cell_type": "code",
   "execution_count": 40,
   "metadata": {},
   "outputs": [
    {
     "name": "stdout",
     "output_type": "stream",
     "text": [
      "1627 7703\n",
      "Hemos encotrado la descomposición de n en factores primos.\n"
     ]
    },
    {
     "data": {
      "text/plain": [
       "True"
      ]
     },
     "execution_count": 40,
     "metadata": {},
     "output_type": "execute_result"
    }
   ],
   "source": [
    "factor1=(a-1).gcd(n)\n",
    "factor2=n//factor1\n",
    "print(factor1, factor2)\n",
    "print('Hemos encotrado la descomposición de n en factores primos.')\n",
    "n==factor1*factor2"
   ]
  },
  {
   "cell_type": "markdown",
   "metadata": {},
   "source": [
    "#Apartado 4#\n",
    "\n",
    "Vamos a factorizar n a partir de phi(n)"
   ]
  },
  {
   "cell_type": "markdown",
   "metadata": {},
   "source": [
    "Consideramos el polinomio (x-p)(x-q)=x^2-(p+q)x+n,  como phi(n)= n+1-(p+q) tenemos (x-p)(x-q)=x^2+(phi(n)-n-1)x+n, luego p y q son las raices del polinomio anterior"
   ]
  },
  {
   "cell_type": "code",
   "execution_count": 41,
   "metadata": {},
   "outputs": [
    {
     "data": {
      "text/plain": [
       "[x == 1627, x == 7703]"
      ]
     },
     "execution_count": 41,
     "metadata": {},
     "output_type": "execute_result"
    }
   ],
   "source": [
    "x = var('x')\n",
    "solve(x^2-(n+1-phi)*x+n, x)"
   ]
  },
  {
   "cell_type": "markdown",
   "metadata": {},
   "source": [
    "#Apartado 5#\n",
    "\n",
    "Factoricemos n a partir de e y d, lo haremos haciendo el mismo método que el ejercicio 3.5 de la teoría"
   ]
  },
  {
   "cell_type": "code",
   "execution_count": 42,
   "metadata": {},
   "outputs": [
    {
     "name": "stdout",
     "output_type": "stream",
     "text": [
      "37570356\n"
     ]
    }
   ],
   "source": [
    "k=e*d-1;\n",
    "print(k)"
   ]
  },
  {
   "cell_type": "code",
   "execution_count": 43,
   "metadata": {},
   "outputs": [
    {
     "name": "stdout",
     "output_type": "stream",
     "text": [
      "1 2 37570356 12532781\n",
      "1 3 37570356 12532781\n",
      "1 5 37570356 12532781\n",
      "1 7 37570356 12532781\n",
      "1 11 37570356 12532781\n",
      "1 13 37570356 12532781\n",
      "1 17 37570356 12532781\n",
      "1 19 37570356 12532781\n"
     ]
    }
   ],
   "source": [
    "for i in [2,3,5,7,11,13,17,19]:\n",
    "    print(power_mod(i,k,n), i, k ,n)"
   ]
  },
  {
   "cell_type": "code",
   "execution_count": 44,
   "metadata": {},
   "outputs": [
    {
     "name": "stdout",
     "output_type": "stream",
     "text": [
      "18785178\n",
      "1 2 18785178 12532781\n",
      "1 3 18785178 12532781\n",
      "1 5 18785178 12532781\n",
      "1 7 18785178 12532781\n",
      "1 11 18785178 12532781\n",
      "1 13 18785178 12532781\n",
      "1 17 18785178 12532781\n",
      "1 19 18785178 12532781\n"
     ]
    }
   ],
   "source": [
    "k=k//2;\n",
    "print(k)\n",
    "for i in [2,3,5,7,11,13,17,19]:\n",
    "    print(power_mod(i,k,n), i, k ,n)"
   ]
  },
  {
   "cell_type": "code",
   "execution_count": 45,
   "metadata": {},
   "outputs": [
    {
     "name": "stdout",
     "output_type": "stream",
     "text": [
      "9392589\n",
      "4467741 2 9392589 12532781\n",
      "4467741 3 9392589 12532781\n",
      "12532780 5 9392589 12532781\n",
      "1 7 9392589 12532781\n",
      "8065040 11 9392589 12532781\n",
      "12532780 13 9392589 12532781\n",
      "4467741 17 9392589 12532781\n",
      "1 19 9392589 12532781\n"
     ]
    }
   ],
   "source": [
    "k=k//2;\n",
    "print(k)\n",
    "for i in [2,3,5,7,11,13,17,19]:\n",
    "    print(power_mod(i,k,n), i, k ,n)"
   ]
  },
  {
   "cell_type": "markdown",
   "metadata": {},
   "source": [
    "Vemos que 2^9392589 mod n = 4467741, como no es uno, un factor de n viene dado por mcd(n,2^9392589-1 mod n)"
   ]
  },
  {
   "cell_type": "code",
   "execution_count": 46,
   "metadata": {},
   "outputs": [
    {
     "name": "stdout",
     "output_type": "stream",
     "text": [
      "7703 1627\n"
     ]
    }
   ],
   "source": [
    "p=n.gcd(4467740)\n",
    "q=n//p\n",
    "print(p,q)"
   ]
  },
  {
   "cell_type": "markdown",
   "metadata": {},
   "source": [
    "Comprobamos que son los factores de n"
   ]
  },
  {
   "cell_type": "code",
   "execution_count": 47,
   "metadata": {},
   "outputs": [
    {
     "data": {
      "text/plain": [
       "True"
      ]
     },
     "execution_count": 47,
     "metadata": {},
     "output_type": "execute_result"
    }
   ],
   "source": [
    "n==p*q"
   ]
  }
 ],
 "metadata": {
  "kernelspec": {
   "display_name": "SageMath 9.0",
   "language": "sage",
   "name": "sagemath"
  },
  "language_info": {
   "codemirror_mode": {
    "name": "ipython",
    "version": 3
   },
   "file_extension": ".py",
   "mimetype": "text/x-python",
   "name": "python",
   "nbconvert_exporter": "python",
   "pygments_lexer": "ipython3",
   "version": "3.8.2"
  }
 },
 "nbformat": 4,
 "nbformat_minor": 4
}
