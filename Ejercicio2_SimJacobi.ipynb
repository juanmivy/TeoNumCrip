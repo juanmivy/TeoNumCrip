{
 "cells": [
  {
   "cell_type": "markdown",
   "metadata": {},
   "source": [
    "#Ejercio 2#\n",
    "Dado n=77021873\n",
    "\n",
    "Apartado 1.- Calcula el simbolo de Jacobi para los primeros cinco primos"
   ]
  },
  {
   "cell_type": "code",
   "execution_count": 7,
   "metadata": {},
   "outputs": [],
   "source": [
    "primos=[2,3,5,7,11]\n",
    "n=77021873"
   ]
  },
  {
   "cell_type": "markdown",
   "metadata": {},
   "source": [
    "El simbolo de Jacobi viene implentado en SAGE con el siguiente comando:"
   ]
  },
  {
   "cell_type": "code",
   "execution_count": 8,
   "metadata": {},
   "outputs": [
    {
     "name": "stdout",
     "output_type": "stream",
     "text": [
      "( 2 )/n= 1\n",
      "( 3 )/n= -1\n",
      "( 5 )/n= -1\n",
      "( 7 )/n= -1\n",
      "( 11 )/n= 1\n"
     ]
    }
   ],
   "source": [
    "for i in primos:\n",
    "    print('(',i,')/n=',kronecker(i,n))"
   ]
  },
  {
   "cell_type": "markdown",
   "metadata": {},
   "source": [
    "Apartado 2.- Razona si n es posible primo de Fermat o posible de Euler para las bases dadas"
   ]
  },
  {
   "cell_type": "markdown",
   "metadata": {},
   "source": [
    "n es posible primo de Fermat se se verifica el pequeño teorema de Fermat, es decir, $a^{n-1} \\equiv 1$ mod $n$ con a la base"
   ]
  },
  {
   "cell_type": "code",
   "execution_count": 9,
   "metadata": {},
   "outputs": [],
   "source": [
    "def exp_rapida(base,exponente,n):\n",
    "    acu=1\n",
    "    ex=0\n",
    "    paso=0\n",
    "    num=exponente.digits(2)\n",
    "    num.reverse()\n",
    "    for i in num:\n",
    "        paso=paso+1\n",
    "        acu=(acu*acu)%n\n",
    "        ex=(2*ex)%n\n",
    "        \n",
    "        if i%2==1:\n",
    "            acu=(acu*base)%n\n",
    "            ex=(ex+1)%n\n",
    "    if(acu+1==n):\n",
    "        acu=-1\n",
    "    print(base,'^',ex,'mod',n,'=',acu)\n",
    "    return (acu)"
   ]
  },
  {
   "cell_type": "code",
   "execution_count": 10,
   "metadata": {},
   "outputs": [
    {
     "name": "stdout",
     "output_type": "stream",
     "text": [
      "2 ^ 77021872 mod 77021873 = 1\n",
      "3 ^ 77021872 mod 77021873 = 1\n",
      "5 ^ 77021872 mod 77021873 = 1\n",
      "7 ^ 77021872 mod 77021873 = 1\n",
      "11 ^ 77021872 mod 77021873 = 1\n"
     ]
    }
   ],
   "source": [
    "for i in primos:\n",
    "    exp_rapida(i,n-1,n)"
   ]
  },
  {
   "cell_type": "markdown",
   "metadata": {},
   "source": [
    "Luego n es posible primo de Fermat para las bases 2,3,5,7,11"
   ]
  },
  {
   "cell_type": "markdown",
   "metadata": {},
   "source": [
    "Veamos si n es posible primo de Euler, para ello se ha de verificar el criterio de Euler:\n",
    "$a^{(n-1)/2} \\equiv (a/n) $ mod $n$"
   ]
  },
  {
   "cell_type": "code",
   "execution_count": 25,
   "metadata": {},
   "outputs": [
    {
     "name": "stdout",
     "output_type": "stream",
     "text": [
      "2 ^ 38510936 mod 77021873 = 1\n",
      "El simbolo de Jacobi vale:  1\n",
      "\n",
      "3 ^ 38510936 mod 77021873 = -1\n",
      "El simbolo de Jacobi vale:  -1\n",
      "\n",
      "5 ^ 38510936 mod 77021873 = -1\n",
      "El simbolo de Jacobi vale:  -1\n",
      "\n",
      "7 ^ 38510936 mod 77021873 = -1\n",
      "El simbolo de Jacobi vale:  -1\n",
      "\n",
      "11 ^ 38510936 mod 77021873 = 1\n",
      "El simbolo de Jacobi vale:  1\n",
      "\n"
     ]
    }
   ],
   "source": [
    "r=(n-1)//2\n",
    "for i in primos:\n",
    "    exp_rapida(i,r,n)\n",
    "    print('El simbolo de Jacobi vale: ',kronecker(i,n))\n",
    "    print()\n",
    "    #exp_rapida(i,r,n)==kronecker(i,n)"
   ]
  },
  {
   "cell_type": "markdown",
   "metadata": {},
   "source": [
    "Por tanto n es un posible primo de Euler y posible primo de Fermat para las bases $a=2,3,5,7,11$"
   ]
  },
  {
   "cell_type": "code",
   "execution_count": null,
   "metadata": {},
   "outputs": [],
   "source": []
  }
 ],
 "metadata": {
  "kernelspec": {
   "display_name": "SageMath 9.0",
   "language": "sage",
   "name": "sagemath"
  },
  "language_info": {
   "codemirror_mode": {
    "name": "ipython",
    "version": 3
   },
   "file_extension": ".py",
   "mimetype": "text/x-python",
   "name": "python",
   "nbconvert_exporter": "python",
   "pygments_lexer": "ipython3",
   "version": "3.8.2"
  }
 },
 "nbformat": 4,
 "nbformat_minor": 4
}
