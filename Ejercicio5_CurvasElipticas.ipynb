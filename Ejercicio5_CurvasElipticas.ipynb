{
 "cells": [
  {
   "cell_type": "markdown",
   "metadata": {},
   "source": [
    "##Ejercicio 5##\n",
    "\n",
    "Juan Miguel Villegas Yeguas\n",
    "\n",
    "Teoría de Números y Criptografía"
   ]
  },
  {
   "cell_type": "markdown",
   "metadata": {},
   "source": [
    "Veamos que curva eliptica sobre $\\mathbb{F}_{32}$ y que punto base de la misma tengo asociados"
   ]
  },
  {
   "cell_type": "code",
   "execution_count": 1,
   "metadata": {},
   "outputs": [
    {
     "name": "stdout",
     "output_type": "stream",
     "text": [
      "22\n"
     ]
    }
   ],
   "source": [
    "dni=77021622\n",
    "print(dni.mod(32))"
   ]
  },
  {
   "cell_type": "markdown",
   "metadata": {},
   "source": [
    "Del cuadro veo que la curva elíptica es $E(\\xi^4+\\xi^2+\\xi+1,\\xi^2)$ y el punto es $Q=(\\xi^4+\\xi+1,\\xi^3+\\xi)$"
   ]
  },
  {
   "cell_type": "code",
   "execution_count": 1,
   "metadata": {},
   "outputs": [],
   "source": [
    "F.<xi> = GF(2^5, modulus=GF(2)[x](x^5 + x^2 + 1))"
   ]
  },
  {
   "cell_type": "code",
   "execution_count": 2,
   "metadata": {},
   "outputs": [
    {
     "name": "stdout",
     "output_type": "stream",
     "text": [
      "Elliptic Curve defined by y^2 + x*y = x^3 + (xi^4+xi^2+xi+1)*x^2 + xi^2 over Finite Field in xi of size 2^5\n"
     ]
    }
   ],
   "source": [
    "E=EllipticCurve(F,[1,xi^4+xi^2+xi+1,0,0,xi^2])\n",
    "print(E)"
   ]
  },
  {
   "cell_type": "code",
   "execution_count": 3,
   "metadata": {},
   "outputs": [],
   "source": [
    "Q=E.point((xi^4+xi+1,xi^3+xi))"
   ]
  },
  {
   "cell_type": "markdown",
   "metadata": {},
   "source": [
    "##Apartado 1\n",
    "\n",
    "Calcular mediante el algoritmo de Shank $\\log_{Q}O$"
   ]
  },
  {
   "cell_type": "code",
   "execution_count": 5,
   "metadata": {},
   "outputs": [],
   "source": [
    "f=6"
   ]
  },
  {
   "cell_type": "code",
   "execution_count": 6,
   "metadata": {},
   "outputs": [
    {
     "name": "stdout",
     "output_type": "stream",
     "text": [
      "[(0, (0 : 1 : 0)), (1, (xi^4 + xi + 1 : xi^3 + xi : 1)), (2, (xi^4 + xi^3 + xi : xi^3 + xi^2 : 1)), (3, (1 : xi^2 + xi + 1 : 1)), (4, (xi^4 + xi^3 + xi^2 : xi^4 + xi^2 : 1)), (5, (xi^4 + xi^3 + xi^2 + xi : xi^3 + xi^2 + xi : 1))]\n"
     ]
    }
   ],
   "source": [
    "tabla=[(ii,ii*Q) for ii in range(f)]\n",
    "print(tabla)"
   ]
  },
  {
   "cell_type": "code",
   "execution_count": 7,
   "metadata": {},
   "outputs": [
    {
     "name": "stdout",
     "output_type": "stream",
     "text": [
      "(xi^2 + 1 : xi^4 + xi^3 + xi^2 + xi + 1 : 1)\n"
     ]
    }
   ],
   "source": [
    "R=-6*Q\n",
    "print(R)"
   ]
  },
  {
   "cell_type": "code",
   "execution_count": 8,
   "metadata": {},
   "outputs": [],
   "source": [
    "H=E.point(0)"
   ]
  },
  {
   "cell_type": "code",
   "execution_count": 9,
   "metadata": {},
   "outputs": [],
   "source": [
    "ii=0\n",
    "H_lista=[H]"
   ]
  },
  {
   "cell_type": "code",
   "execution_count": 11,
   "metadata": {},
   "outputs": [
    {
     "name": "stdout",
     "output_type": "stream",
     "text": [
      "2 (xi^4 + xi^3 + xi^2 + xi : xi^3 + xi^2 + xi : 1)\n"
     ]
    }
   ],
   "source": [
    "ii+=1\n",
    "H_lista+= [H_lista[-1]+R]\n",
    "print(ii,H_lista[-1])"
   ]
  },
  {
   "cell_type": "markdown",
   "metadata": {},
   "source": [
    "Como el punto anterior esta en la tabla ya hemos encontrado el valor deseado"
   ]
  },
  {
   "cell_type": "code",
   "execution_count": 12,
   "metadata": {},
   "outputs": [
    {
     "name": "stdout",
     "output_type": "stream",
     "text": [
      "17\n"
     ]
    }
   ],
   "source": [
    "logaritmo=5+2*f\n",
    "print(logaritmo)"
   ]
  },
  {
   "cell_type": "markdown",
   "metadata": {},
   "source": [
    "Hagamos la comprobación para saber que estamos en lo cierto"
   ]
  },
  {
   "cell_type": "code",
   "execution_count": 13,
   "metadata": {},
   "outputs": [
    {
     "data": {
      "text/plain": [
       "(0 : 1 : 0)"
      ]
     },
     "execution_count": 13,
     "metadata": {},
     "output_type": "execute_result"
    }
   ],
   "source": [
    "logaritmo*Q"
   ]
  },
  {
   "cell_type": "markdown",
   "metadata": {},
   "source": [
    "##Apartado 2##\n",
    "\n",
    "Para dicha curva elíptica y punto base genera un par de claves pública/privada para un protocolo ECDH"
   ]
  },
  {
   "cell_type": "markdown",
   "metadata": {},
   "source": [
    "Veamos cual es el orden de nuesta curva"
   ]
  },
  {
   "cell_type": "code",
   "execution_count": 14,
   "metadata": {},
   "outputs": [
    {
     "data": {
      "text/plain": [
       "34"
      ]
     },
     "execution_count": 14,
     "metadata": {},
     "output_type": "execute_result"
    }
   ],
   "source": [
    "E.order()"
   ]
  },
  {
   "cell_type": "markdown",
   "metadata": {},
   "source": [
    "Como $|E|=h \\cdot n$ con $n$ el orden el elemento $Q$ tenemos:"
   ]
  },
  {
   "cell_type": "code",
   "execution_count": 15,
   "metadata": {},
   "outputs": [],
   "source": [
    "n=17\n",
    "h=2"
   ]
  },
  {
   "cell_type": "code",
   "execution_count": 16,
   "metadata": {},
   "outputs": [
    {
     "name": "stdout",
     "output_type": "stream",
     "text": [
      "(xi + 1 : xi^4 + xi^3 + xi + 1 : 1)\n"
     ]
    }
   ],
   "source": [
    "a=ZZ.random_element(2,n)\n",
    "clave_alice=a*Q\n",
    "print(clave_alice)"
   ]
  },
  {
   "cell_type": "code",
   "execution_count": 17,
   "metadata": {},
   "outputs": [
    {
     "name": "stdout",
     "output_type": "stream",
     "text": [
      "(xi^2 + 1 : xi^4 + xi^3 + xi : 1)\n"
     ]
    }
   ],
   "source": [
    "b=ZZ.random_element(2,n)\n",
    "clave_bob=b*Q\n",
    "print(clave_bob)"
   ]
  },
  {
   "cell_type": "code",
   "execution_count": 18,
   "metadata": {},
   "outputs": [
    {
     "data": {
      "text/plain": [
       "True"
      ]
     },
     "execution_count": 18,
     "metadata": {},
     "output_type": "execute_result"
    }
   ],
   "source": [
    "a*(clave_bob)==b*(clave_alice)"
   ]
  },
  {
   "cell_type": "code",
   "execution_count": 20,
   "metadata": {},
   "outputs": [],
   "source": [
    "clave_compartida=a*(clave_bob)"
   ]
  },
  {
   "cell_type": "markdown",
   "metadata": {},
   "source": [
    "Las claves son"
   ]
  },
  {
   "cell_type": "code",
   "execution_count": 21,
   "metadata": {},
   "outputs": [
    {
     "data": {
      "text/plain": [
       "((xi + 1 : xi^4 + xi^3 + xi + 1 : 1),\n",
       " (xi^2 + 1 : xi^4 + xi^3 + xi : 1),\n",
       " (1 : xi^2 + xi : 1))"
      ]
     },
     "execution_count": 21,
     "metadata": {},
     "output_type": "execute_result"
    }
   ],
   "source": [
    "(clave_alice,clave_bob,clave_compartida)"
   ]
  },
  {
   "cell_type": "markdown",
   "metadata": {},
   "source": [
    "##Apartado 3##\n",
    "\n",
    "Cifra el mensaje $(\\xi^3+\\xi^2+1,\\xi^4+\\xi^2)$ mediante el criptosistema de Menezes-Vanstone"
   ]
  },
  {
   "cell_type": "code",
   "execution_count": 22,
   "metadata": {},
   "outputs": [
    {
     "name": "stdout",
     "output_type": "stream",
     "text": [
      "8\n"
     ]
    }
   ],
   "source": [
    "k=ZZ.random_element(2,n)\n",
    "print(k)"
   ]
  },
  {
   "cell_type": "code",
   "execution_count": 23,
   "metadata": {},
   "outputs": [
    {
     "data": {
      "text/plain": [
       "(xi + 1 : xi^4 + xi^3 + xi + 1 : 1)"
      ]
     },
     "execution_count": 23,
     "metadata": {},
     "output_type": "execute_result"
    }
   ],
   "source": [
    "k*Q"
   ]
  },
  {
   "cell_type": "code",
   "execution_count": 24,
   "metadata": {},
   "outputs": [
    {
     "data": {
      "text/plain": [
       "(xi^4 + xi^3 + xi^2 : xi^3 : 1)"
      ]
     },
     "execution_count": 24,
     "metadata": {},
     "output_type": "execute_result"
    }
   ],
   "source": [
    "k*clave_alice"
   ]
  },
  {
   "cell_type": "code",
   "execution_count": 25,
   "metadata": {},
   "outputs": [
    {
     "data": {
      "text/plain": [
       "False"
      ]
     },
     "execution_count": 25,
     "metadata": {},
     "output_type": "execute_result"
    }
   ],
   "source": [
    "x0=xi^4+xi^3+xi^2\n",
    "y0=xi^3\n",
    "x0*y0==0"
   ]
  },
  {
   "cell_type": "code",
   "execution_count": 26,
   "metadata": {},
   "outputs": [
    {
     "name": "stdout",
     "output_type": "stream",
     "text": [
      "[(xi + 1 : xi^4 + xi^3 + xi + 1 : 1), xi^4 + xi^3, xi^4 + 1]\n"
     ]
    }
   ],
   "source": [
    "mensaje=[xi^3+xi^2+1,xi^4+xi^2]\n",
    "criptograma=[k*Q,x0*mensaje[0],y0*mensaje[1]]\n",
    "print(criptograma)"
   ]
  },
  {
   "cell_type": "markdown",
   "metadata": {},
   "source": [
    "##Apartado 4##\n",
    "\n",
    "Descifrar el mensaje anterior"
   ]
  },
  {
   "cell_type": "code",
   "execution_count": 27,
   "metadata": {},
   "outputs": [
    {
     "data": {
      "text/plain": [
       "(xi^4 + xi^3 + xi^2 : xi^3 : 1)"
      ]
     },
     "execution_count": 27,
     "metadata": {},
     "output_type": "execute_result"
    }
   ],
   "source": [
    "a*(criptograma[0])"
   ]
  },
  {
   "cell_type": "code",
   "execution_count": 28,
   "metadata": {},
   "outputs": [],
   "source": [
    "x0=xi^4 + xi^3 + xi^2\n",
    "y0=xi^3"
   ]
  },
  {
   "cell_type": "code",
   "execution_count": 29,
   "metadata": {},
   "outputs": [
    {
     "data": {
      "text/plain": [
       "[xi^3 + xi^2 + 1, xi^4 + xi^2]"
      ]
     },
     "execution_count": 29,
     "metadata": {},
     "output_type": "execute_result"
    }
   ],
   "source": [
    "descifrado=[x0^-1*criptograma[1],y0^-1*criptograma[2]]\n",
    "descifrado"
   ]
  },
  {
   "cell_type": "code",
   "execution_count": null,
   "metadata": {},
   "outputs": [],
   "source": []
  }
 ],
 "metadata": {
  "kernelspec": {
   "display_name": "SageMath 9.0",
   "language": "sage",
   "name": "sagemath"
  },
  "language_info": {
   "codemirror_mode": {
    "name": "ipython",
    "version": 3
   },
   "file_extension": ".py",
   "mimetype": "text/x-python",
   "name": "python",
   "nbconvert_exporter": "python",
   "pygments_lexer": "ipython3",
   "version": "3.8.2"
  }
 },
 "nbformat": 4,
 "nbformat_minor": 4
}
