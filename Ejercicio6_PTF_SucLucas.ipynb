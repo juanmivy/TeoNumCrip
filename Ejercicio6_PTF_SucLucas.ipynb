{
 "cells": [
  {
   "cell_type": "markdown",
   "metadata": {},
   "source": [
    "Dado n =77021881\n",
    "\n",
    "Apartado 1: Con P=3, Q=-1, define el entero cuadratico $\\alpha$ y sus sucesiones de Lucas"
   ]
  },
  {
   "cell_type": "code",
   "execution_count": 6,
   "metadata": {},
   "outputs": [],
   "source": [
    "n=77021881\n",
    "p=3\n",
    "q=1"
   ]
  },
  {
   "cell_type": "markdown",
   "metadata": {},
   "source": [
    "Un entero cuadratico es la solucion de la ecuacion $x^2+Ax+B=0$ con A y B enteros, con P=3 y Q=-1 definimos\n",
    "$\\alpha=\\frac{3+\\sqrt{13}}{2}$ que es solución de $x^2-3x-1$"
   ]
  },
  {
   "cell_type": "markdown",
   "metadata": {},
   "source": [
    "La sucesion de Lucas asociada viene dada por:\n",
    "\n",
    "$V_0=2    \\qquad  U_0=0$\n",
    "\n",
    "$V_1=3  \\qquad   U_1=1$\n",
    " \n",
    "$V_{n}=3V_{n-1}+V_{n-2} $  \n",
    "\n",
    "$ U_{n}=3U_{n-1}+U_{n-2}$"
   ]
  },
  {
   "cell_type": "markdown",
   "metadata": {},
   "source": [
    "Apartado 2.- Consideramos el discrimiante correspondiente $disc=P^2-4Q$, calcula el simbolo de Jacobi (disc/n) y define r=n-(disc/n)"
   ]
  },
  {
   "cell_type": "code",
   "execution_count": 7,
   "metadata": {},
   "outputs": [
    {
     "name": "stdout",
     "output_type": "stream",
     "text": [
      "El simbolo de Jacobi es: 1\n"
     ]
    }
   ],
   "source": [
    "disc=p^2-4*q\n",
    "print('El simbolo de Jacobi es:', kronecker(disc,n))\n",
    "r=n-kronecker(disc,n)"
   ]
  },
  {
   "cell_type": "markdown",
   "metadata": {},
   "source": [
    "Apartado 3.- Calcula los terminos $V_r,U_r$ para el n"
   ]
  },
  {
   "cell_type": "code",
   "execution_count": 10,
   "metadata": {},
   "outputs": [],
   "source": [
    "def suc_lucas(n,p,q):\n",
    "    r=n-kronecker(disc,n)\n",
    "    num=r.digits(2)\n",
    "    num.reverse()\n",
    "    i=0\n",
    "    u_anterior=0\n",
    "    u=1\n",
    "    aux=0\n",
    "\n",
    "\n",
    "\n",
    "    #print 'U[%d]=%d V[%d]=%d' %(i,u_anterior,i+1,u)\n",
    "    #print\n",
    "    for j in num:\n",
    "        if (j%2==0):\n",
    "            i=2*i\n",
    "            aux=u_anterior\n",
    "            u_anterior=(2*u_anterior*u-p*u_anterior*u_anterior)%n\n",
    "            u=(u*u-q*aux*aux)%n\n",
    "        if (j%2)==1:\n",
    "            i=2*i+1\n",
    "            aux=u_anterior\n",
    "            u_anterior=(u*u-q*aux*aux)%n\n",
    "            u=(p*u*u-2*q*u*aux)%n\n",
    "        v=(2*u-p*u_anterior)%n\n",
    "        print('U[',i,']=',u_anterior)\n",
    "        print('V[',i,']=',v)\n",
    "        print()"
   ]
  },
  {
   "cell_type": "code",
   "execution_count": 11,
   "metadata": {},
   "outputs": [
    {
     "name": "stdout",
     "output_type": "stream",
     "text": [
      "U[ 1 ]= 1\n",
      "V[ 1 ]= 3\n",
      "\n",
      "U[ 2 ]= 3\n",
      "V[ 2 ]= 7\n",
      "\n",
      "U[ 4 ]= 21\n",
      "V[ 4 ]= 47\n",
      "\n",
      "U[ 9 ]= 2584\n",
      "V[ 9 ]= 5778\n",
      "\n",
      "U[ 18 ]= 14930352\n",
      "V[ 18 ]= 33385282\n",
      "\n",
      "U[ 36 ]= 54040355\n",
      "V[ 36 ]= 38150288\n",
      "\n",
      "U[ 73 ]= 10793595\n",
      "V[ 73 ]= 69020056\n",
      "\n",
      "U[ 146 ]= 27948475\n",
      "V[ 146 ]= 66414632\n",
      "\n",
      "U[ 293 ]= 31152091\n",
      "V[ 293 ]= 60946443\n",
      "\n",
      "U[ 587 ]= 68276333\n",
      "V[ 587 ]= 19385564\n",
      "\n",
      "U[ 1175 ]= 7259090\n",
      "V[ 1175 ]= 46617137\n",
      "\n",
      "U[ 2350 ]= 48195400\n",
      "V[ 2350 ]= 31906681\n",
      "\n",
      "U[ 4701 ]= 55978372\n",
      "V[ 4701 ]= 18901142\n",
      "\n",
      "U[ 9402 ]= 33228392\n",
      "V[ 9402 ]= 36539789\n",
      "\n",
      "U[ 18804 ]= 57540797\n",
      "V[ 18804 ]= 50193435\n",
      "\n",
      "U[ 37608 ]= 63279407\n",
      "V[ 37608 ]= 41967726\n",
      "\n",
      "U[ 75216 ]= 687043\n",
      "V[ 75216 ]= 18075436\n",
      "\n",
      "U[ 150433 ]= 63181773\n",
      "V[ 150433 ]= 894250\n",
      "\n",
      "U[ 300866 ]= 52457009\n",
      "V[ 300866 ]= 41893956\n",
      "\n",
      "U[ 601733 ]= 17560831\n",
      "V[ 601733 ]= 65807410\n",
      "\n",
      "U[ 1203466 ]= 46040236\n",
      "V[ 1203466 ]= 28659680\n",
      "\n",
      "U[ 2406933 ]= 67736404\n",
      "V[ 2406933 ]= 45005440\n",
      "\n",
      "U[ 4813867 ]= 6392943\n",
      "V[ 4813867 ]= 45057166\n",
      "\n",
      "U[ 9627735 ]= 0\n",
      "V[ 9627735 ]= 2\n",
      "\n",
      "U[ 19255470 ]= 0\n",
      "V[ 19255470 ]= 2\n",
      "\n",
      "U[ 38510940 ]= 0\n",
      "V[ 38510940 ]= 2\n",
      "\n",
      "U[ 77021880 ]= 0\n",
      "V[ 77021880 ]= 2\n",
      "\n"
     ]
    }
   ],
   "source": [
    "suc_lucas(n,p,q)"
   ]
  },
  {
   "cell_type": "code",
   "execution_count": null,
   "metadata": {},
   "outputs": [],
   "source": []
  }
 ],
 "metadata": {
  "kernelspec": {
   "display_name": "SageMath 9.0",
   "language": "sage",
   "name": "sagemath"
  },
  "language_info": {
   "codemirror_mode": {
    "name": "ipython",
    "version": 3
   },
   "file_extension": ".py",
   "mimetype": "text/x-python",
   "name": "python",
   "nbconvert_exporter": "python",
   "pygments_lexer": "ipython3",
   "version": "3.8.2"
  }
 },
 "nbformat": 4,
 "nbformat_minor": 4
}
