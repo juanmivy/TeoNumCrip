{
 "cells": [
  {
   "cell_type": "markdown",
   "metadata": {},
   "source": [
    "Considerar el cifrado por bloques MiniAES descrito en los apuntes\n",
    "\n",
    "Apartado 1.- Calcula $E_{dni}(0x0134567)$ usando el modo CBC e IV=0x0001"
   ]
  },
  {
   "cell_type": "code",
   "execution_count": 1,
   "metadata": {},
   "outputs": [],
   "source": [
    "F.<xi>=GF(2^4, modulus=GF(2)[x](x^4+x+1))\n",
    "F.modulus()\n",
    "def nibblesub(ll):\n",
    "    xx = vector(ll)\n",
    "    if xx != 0:\n",
    "        xx=vector(reversed(vector(F(vector(reversed(xx)))^(-1))))\n",
    "    return list(xx*matrix(GF(2),4,[0,1,1,1,1,1,1,0,1,1,0,1,1,0,1,1])+vector([0,0,1,1]))\n",
    "\n",
    "def shiftrow(ll):\n",
    "    return [ll[0],ll[3],ll[2],ll[1]]\n",
    "\n",
    "def mixcolumn(ll):\n",
    "    return [list(reversed(vector(ele))) for ele in (matrix(F,2,[xi+1,xi,xi,xi+1])*matrix(F,2,[F(vector(reversed(ll[0]))), F(vector(reversed(ll[2]))), F(vector(reversed(ll[1]))), F(vector(reversed(ll[3])))])).transpose().list()]\n",
    "\n",
    "def addroundkey(ll,kk):\n",
    "    return [list(vector(ll[0])+vector(kk[0])), list(vector(ll[1])+vector(kk[1])), list(vector(ll[2])+vector(kk[2])), list(vector(ll[3])+vector(kk[3]))]\n",
    "\n",
    "def key_squedule(kk):\n",
    "    ww = list(reversed(vector(GF(2),kk.bits())))\n",
    "    while len(ww)<16:\n",
    "        ww = [GF(2)(0)]+ww\n",
    "    ww = [[ww[0],ww[1],ww[2],ww[3]],[ww[4],ww[5],ww[6],ww[7]],[ww[8],ww[9],ww[10],ww[11]],[ww[12],ww[13],ww[14],ww[15]]]\n",
    "    ww += [list(vector(ww[0])+vector(nibblesub(ww[3]))+vector(GF(2),[0,0,0,1]))]\n",
    "    ww += [list(vector(ww[1]) + vector(ww[4]))]\n",
    "    ww += [list(vector(ww[2]) + vector(ww[5]))]\n",
    "    ww += [list(vector(ww[3]) + vector(ww[6]))]\n",
    "    ww += [list(vector(ww[4])+vector(nibblesub(ww[7]))+vector(GF(2),[0,0,1,0]))]\n",
    "    ww += [list(vector(ww[5]) + vector(ww[8]))]\n",
    "    ww += [list(vector(ww[6]) + vector(ww[9]))]\n",
    "    ww += [list(vector(ww[7]) + vector(ww[10]))]\n",
    "    return ww\n",
    "\n",
    "def MiniAES(kk,mm):\n",
    "    ww = key_squedule(kk)\n",
    "    estado = list(reversed(vector(GF(2),mm.bits())))\n",
    "    while len(estado)< 16:\n",
    "        estado = [GF(2)(0)]+estado\n",
    "    estado = [[estado[0],estado[1],estado[2],estado[3]],[estado[4],estado[5],estado[6],estado[7]],[estado[8],estado[9],estado[10],estado[11]],[estado[12],estado[13],estado[14],estado[15]]]\n",
    "    estado = addroundkey(estado,[ww[0],ww[1],ww[2],ww[3]])\n",
    "    estado = [nibblesub(ele) for ele in estado]\n",
    "    estado = shiftrow(estado)\n",
    "    estado = mixcolumn(estado)\n",
    "    estado = addroundkey(estado,[ww[4],ww[5],ww[6],ww[7]])\n",
    "    estado = [nibblesub(ele) for ele in estado]\n",
    "    estado = shiftrow(estado)\n",
    "    estado = addroundkey(estado,[ww[8],ww[9],ww[10],ww[11]])\n",
    "    salida = list(reversed(estado[0]+estado[1]+estado[2]+estado[3]))\n",
    "    return estado,Integer(salida,base=2).hex()"
   ]
  },
  {
   "cell_type": "code",
   "execution_count": 2,
   "metadata": {},
   "outputs": [],
   "source": [
    "clave=77021622%(65536)"
   ]
  },
  {
   "cell_type": "code",
   "execution_count": 3,
   "metadata": {},
   "outputs": [
    {
     "data": {
      "text/plain": [
       "[1, 1, 1, 0, 0, 1, 1, 0, 1, 0, 1, 0, 0, 0, 1, 0, 1, 1, 0, 0, 0, 1, 0, 0, 1]"
      ]
     },
     "execution_count": 3,
     "metadata": {},
     "output_type": "execute_result"
    }
   ],
   "source": [
    "mensaje=list(0x01234567.bits())\n",
    "mensaje"
   ]
  },
  {
   "cell_type": "code",
   "execution_count": 4,
   "metadata": {},
   "outputs": [],
   "source": [
    "mens2=[1, 1, 1, 0, 0, 1, 1, 0, 1, 0, 1, 0, 0, 0, 1, 0]\n",
    "mens1=[1, 1, 0, 0, 0, 1, 0, 0, 1]+[0,0,0,0,0,0,0]"
   ]
  },
  {
   "cell_type": "code",
   "execution_count": 5,
   "metadata": {},
   "outputs": [],
   "source": [
    "c0='0x0001'"
   ]
  },
  {
   "cell_type": "code",
   "execution_count": 6,
   "metadata": {},
   "outputs": [
    {
     "data": {
      "text/plain": [
       "'0x70ff'"
      ]
     },
     "execution_count": 6,
     "metadata": {},
     "output_type": "execute_result"
    }
   ],
   "source": [
    "c1='0x'+MiniAES(clave, Integer(mens1, base=2)^^(Integer(c0)))[1]\n",
    "c1"
   ]
  },
  {
   "cell_type": "code",
   "execution_count": 7,
   "metadata": {},
   "outputs": [
    {
     "data": {
      "text/plain": [
       "'0x2599'"
      ]
     },
     "execution_count": 7,
     "metadata": {},
     "output_type": "execute_result"
    }
   ],
   "source": [
    "c2='0x'+MiniAES(clave, Integer(mens2, base=2)^^(Integer(c1)))[1]\n",
    "c2"
   ]
  },
  {
   "cell_type": "markdown",
   "metadata": {},
   "source": [
    "Luego $E_{dni}(0x0134567)=c0||c1||c2=0x000170ff2599$"
   ]
  },
  {
   "cell_type": "markdown",
   "metadata": {},
   "source": [
    "Apartado 2\n",
    "\n",
    "Calcula $E_{dni}(0x0134567)$ usando el modo CFB, r=11, IV=0x0001"
   ]
  },
  {
   "cell_type": "code",
   "execution_count": 8,
   "metadata": {},
   "outputs": [],
   "source": [
    "clave=77021622%(65536)"
   ]
  },
  {
   "cell_type": "code",
   "execution_count": 9,
   "metadata": {},
   "outputs": [],
   "source": [
    "def msb(num,r):\n",
    "    lista=num.bits()\n",
    "    while len(lista)<16:\n",
    "        lista=lista+[0]\n",
    "    return lista[-r:]\n",
    "def lsb(num,r):\n",
    "    lista=num.bits()\n",
    "    while len(lista)<16:\n",
    "        lista=lista+[0]\n",
    "    return lista[:r]"
   ]
  },
  {
   "cell_type": "code",
   "execution_count": 10,
   "metadata": {},
   "outputs": [
    {
     "data": {
      "text/plain": [
       "[1, 1, 1, 0, 0, 1, 1, 0, 1, 0, 1, 0, 0, 0, 1, 0, 1, 1, 0, 0, 0, 1, 0, 0, 1]"
      ]
     },
     "execution_count": 10,
     "metadata": {},
     "output_type": "execute_result"
    }
   ],
   "source": [
    "mens=0x01234567.bits()\n",
    "mens"
   ]
  },
  {
   "cell_type": "code",
   "execution_count": 11,
   "metadata": {},
   "outputs": [],
   "source": [
    "mens=mens+[0,0,0,0,0,0,0,0]"
   ]
  },
  {
   "cell_type": "code",
   "execution_count": 12,
   "metadata": {},
   "outputs": [],
   "source": [
    "mens1=[0,0,1,0,0,0,0,0,0,0,0]\n",
    "mens2=[0, 0, 0, 1, 0, 1, 1, 0, 0, 0, 1]\n",
    "mens3=[1, 1, 1, 0, 0, 1, 1, 0, 1, 0, 1]"
   ]
  },
  {
   "cell_type": "code",
   "execution_count": 13,
   "metadata": {},
   "outputs": [],
   "source": [
    "x1='0x0001'\n",
    "Integer(x1).bits()\n",
    "x1=[1,0,0,0,0,0,0,0,0,0,0,0,0,0,0,0]"
   ]
  },
  {
   "cell_type": "code",
   "execution_count": 15,
   "metadata": {},
   "outputs": [
    {
     "name": "stdout",
     "output_type": "stream",
     "text": [
      "0x776\n"
     ]
    },
    {
     "data": {
      "text/plain": [
       "[0, 1, 1, 0, 1, 1, 1, 0, 1, 1, 1]"
      ]
     },
     "execution_count": 15,
     "metadata": {},
     "output_type": "execute_result"
    }
   ],
   "source": [
    "c1='0x'+(Integer(mens1, base=2)^^(Integer(msb(Integer('0x'+MiniAES(clave, Integer((x1),base=2))[1]),11), base=2))).hex()\n",
    "print (c1)\n",
    "Integer(c1).bits()"
   ]
  },
  {
   "cell_type": "code",
   "execution_count": 16,
   "metadata": {},
   "outputs": [
    {
     "data": {
      "text/plain": [
       "[0, 1, 1, 0, 1, 1, 1, 0, 1, 1, 1, 1, 0, 0, 0, 0]"
      ]
     },
     "execution_count": 16,
     "metadata": {},
     "output_type": "execute_result"
    }
   ],
   "source": [
    "x2=list(reversed(list(reversed(lsb(Integer(x1,base=2),5)))+list(reversed(Integer(c1).bits()))))\n",
    "x2"
   ]
  },
  {
   "cell_type": "code",
   "execution_count": 18,
   "metadata": {},
   "outputs": [
    {
     "name": "stdout",
     "output_type": "stream",
     "text": [
      "0x6c1\n"
     ]
    },
    {
     "data": {
      "text/plain": [
       "[1, 0, 0, 0, 0, 0, 1, 1, 0, 1, 1]"
      ]
     },
     "execution_count": 18,
     "metadata": {},
     "output_type": "execute_result"
    }
   ],
   "source": [
    "c2='0x'+(Integer(mens2, base=2)^^(Integer(msb(Integer('0x'+MiniAES(clave, Integer((x2),base=2))[1]),11), base=2))).hex()\n",
    "print (c2)\n",
    "Integer(c2).bits()"
   ]
  },
  {
   "cell_type": "code",
   "execution_count": 19,
   "metadata": {},
   "outputs": [
    {
     "data": {
      "text/plain": [
       "[1, 0, 0, 0, 0, 0, 1, 1, 0, 1, 1, 0, 1, 1, 0, 1]"
      ]
     },
     "execution_count": 19,
     "metadata": {},
     "output_type": "execute_result"
    }
   ],
   "source": [
    "x3=list(reversed(list(reversed(lsb(Integer(x2,base=2),5)))+list(reversed(Integer(c2).bits()))))\n",
    "x3"
   ]
  },
  {
   "cell_type": "code",
   "execution_count": 21,
   "metadata": {},
   "outputs": [
    {
     "name": "stdout",
     "output_type": "stream",
     "text": [
      "0x37b\n"
     ]
    },
    {
     "data": {
      "text/plain": [
       "[1, 1, 0, 1, 1, 1, 1, 0, 1, 1]"
      ]
     },
     "execution_count": 21,
     "metadata": {},
     "output_type": "execute_result"
    }
   ],
   "source": [
    "c3='0x'+(Integer(mens3, base=2)^^(Integer(msb(Integer('0x'+MiniAES(clave, Integer((x3),base=2))[1]),11), base=2))).hex()\n",
    "print (c3)\n",
    "Integer(c3).bits()"
   ]
  },
  {
   "cell_type": "markdown",
   "metadata": {},
   "source": [
    "Luego $E_{dni}(0x0134567)=c1||c2||c3=0x7766c137b$"
   ]
  },
  {
   "cell_type": "code",
   "execution_count": null,
   "metadata": {},
   "outputs": [],
   "source": []
  }
 ],
 "metadata": {
  "kernelspec": {
   "display_name": "SageMath 9.0",
   "language": "sage",
   "name": "sagemath"
  },
  "language_info": {
   "codemirror_mode": {
    "name": "ipython",
    "version": 3
   },
   "file_extension": ".py",
   "mimetype": "text/x-python",
   "name": "python",
   "nbconvert_exporter": "python",
   "pygments_lexer": "ipython3",
   "version": "3.8.2"
  }
 },
 "nbformat": 4,
 "nbformat_minor": 4
}
