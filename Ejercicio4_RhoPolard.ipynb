{
 "cells": [
  {
   "cell_type": "markdown",
   "metadata": {},
   "source": [
    "Dado $m=35192542260449830245251842461649$.\n",
    "\n",
    "Apartado i.- Factoriza $m-1$ aplicando el método $\\rho$ de Pollard"
   ]
  },
  {
   "cell_type": "markdown",
   "metadata": {},
   "source": [
    "Implementaremos una función para que de los factores de m y las iteraciones"
   ]
  },
  {
   "cell_type": "code",
   "execution_count": 1,
   "metadata": {},
   "outputs": [],
   "source": [
    "m=35192542260449830245251842461648\n",
    "iteraciones=0\n",
    "factores=[]\n",
    "def rhoPolard(m):\n",
    "    x=1\n",
    "    y=1\n",
    "    i=0\n",
    "    t=60000 #numero maximo de iteraciones\n",
    "    while i<t:\n",
    "        i=i+1\n",
    "        x=(x*x+1)%m\n",
    "        y=(y*y+1)%m\n",
    "        y=(y*y+1)%m\n",
    "        aux=x-y\n",
    "        e=(x-y).gcd(m)\n",
    "        if(1<e and e<m):\n",
    "            break\n",
    "    if(i==t):\n",
    "        print('No se ha encontrado ningun factor')\n",
    "        \n",
    "    return(e,i)"
   ]
  },
  {
   "cell_type": "code",
   "execution_count": 2,
   "metadata": {},
   "outputs": [
    {
     "name": "stdout",
     "output_type": "stream",
     "text": [
      "11730847420149943415083947487216\n"
     ]
    }
   ],
   "source": [
    "rhoPolard(m)\n",
    "factores=factores+[rhoPolard(m)[0]]\n",
    "iteraciones=iteraciones+rhoPolard(m)[1]\n",
    "m=m/rhoPolard(m)[0]\n",
    "print(m)"
   ]
  },
  {
   "cell_type": "code",
   "execution_count": 3,
   "metadata": {},
   "outputs": [
    {
     "name": "stdout",
     "output_type": "stream",
     "text": [
      "733177963759371463442746717951\n"
     ]
    }
   ],
   "source": [
    "rhoPolard(m)\n",
    "factores=factores+[rhoPolard(m)[0]]\n",
    "iteraciones=iteraciones+rhoPolard(m)[1]\n",
    "m=m/rhoPolard(m)[0]\n",
    "print(m)"
   ]
  },
  {
   "cell_type": "code",
   "execution_count": 4,
   "metadata": {},
   "outputs": [
    {
     "name": "stdout",
     "output_type": "stream",
     "text": [
      "56398304904567035649442055227\n"
     ]
    }
   ],
   "source": [
    "rhoPolard(m)\n",
    "factores=factores+[rhoPolard(m)[0]]\n",
    "iteraciones=iteraciones+rhoPolard(m)[1]\n",
    "m=m/rhoPolard(m)[0]\n",
    "print(m)"
   ]
  },
  {
   "cell_type": "code",
   "execution_count": 5,
   "metadata": {},
   "outputs": [
    {
     "name": "stdout",
     "output_type": "stream",
     "text": [
      "21210344078438148044167753\n"
     ]
    }
   ],
   "source": [
    "rhoPolard(m)\n",
    "factores=factores+[rhoPolard(m)[0]]\n",
    "iteraciones=iteraciones+rhoPolard(m)[1]\n",
    "m=m/rhoPolard(m)[0]\n",
    "print(m)"
   ]
  },
  {
   "cell_type": "code",
   "execution_count": 6,
   "metadata": {},
   "outputs": [
    {
     "name": "stdout",
     "output_type": "stream",
     "text": [
      "4282910986350781\n"
     ]
    }
   ],
   "source": [
    "rhoPolard(m)\n",
    "factores=factores+[rhoPolard(m)[0]]\n",
    "iteraciones=iteraciones+rhoPolard(m)[1]\n",
    "m=m/rhoPolard(m)[0]\n",
    "print(m)"
   ]
  },
  {
   "cell_type": "code",
   "execution_count": 7,
   "metadata": {},
   "outputs": [
    {
     "name": "stdout",
     "output_type": "stream",
     "text": [
      "No se ha encontrado ningun factor\n",
      "No se ha encontrado ningun factor\n",
      "No se ha encontrado ningun factor\n",
      "No se ha encontrado ningun factor\n",
      "4282910986350781\n"
     ]
    }
   ],
   "source": [
    "rhoPolard(m)\n",
    "factores=factores+[rhoPolard(m)[0]]\n",
    "iteraciones=iteraciones+rhoPolard(m)[1]\n",
    "m=m/rhoPolard(m)[0]\n",
    "print(m)"
   ]
  },
  {
   "cell_type": "code",
   "execution_count": 8,
   "metadata": {},
   "outputs": [
    {
     "data": {
      "text/plain": [
       "True"
      ]
     },
     "execution_count": 8,
     "metadata": {},
     "output_type": "execute_result"
    }
   ],
   "source": [
    "4282910986350781.is_prime()"
   ]
  },
  {
   "cell_type": "code",
   "execution_count": 9,
   "metadata": {},
   "outputs": [],
   "source": [
    "factores=factores+[4282910986350781]"
   ]
  },
  {
   "cell_type": "code",
   "execution_count": 10,
   "metadata": {},
   "outputs": [
    {
     "data": {
      "text/plain": [
       "1"
      ]
     },
     "execution_count": 10,
     "metadata": {},
     "output_type": "execute_result"
    }
   ],
   "source": [
    "factores.pop(5)"
   ]
  },
  {
   "cell_type": "code",
   "execution_count": 11,
   "metadata": {},
   "outputs": [
    {
     "data": {
      "text/plain": [
       "[3, 16, 13, 2659, 4952319613, 4282910986350781]"
      ]
     },
     "execution_count": 11,
     "metadata": {},
     "output_type": "execute_result"
    }
   ],
   "source": [
    "factores"
   ]
  },
  {
   "cell_type": "markdown",
   "metadata": {},
   "source": [
    "Ya habríamos encontrado los factores de $m-1$, para comprobarlo"
   ]
  },
  {
   "cell_type": "code",
   "execution_count": 12,
   "metadata": {},
   "outputs": [
    {
     "data": {
      "text/plain": [
       "2^4 * 3 * 13 * 2659 * 4952319613 * 4282910986350781"
      ]
     },
     "execution_count": 12,
     "metadata": {},
     "output_type": "execute_result"
    }
   ],
   "source": [
    "35192542260449830245251842461648.factor()"
   ]
  },
  {
   "cell_type": "code",
   "execution_count": 13,
   "metadata": {},
   "outputs": [
    {
     "name": "stdout",
     "output_type": "stream",
     "text": [
      "Hemos realizado el siguiente numero de iteraciones 115005\n"
     ]
    }
   ],
   "source": [
    "print('Hemos realizado el siguiente numero de iteraciones',iteraciones)"
   ]
  },
  {
   "cell_type": "code",
   "execution_count": null,
   "metadata": {},
   "outputs": [],
   "source": []
  }
 ],
 "metadata": {
  "kernelspec": {
   "display_name": "SageMath 9.0",
   "language": "sage",
   "name": "sagemath"
  },
  "language_info": {
   "codemirror_mode": {
    "name": "ipython",
    "version": 3
   },
   "file_extension": ".py",
   "mimetype": "text/x-python",
   "name": "python",
   "nbconvert_exporter": "python",
   "pygments_lexer": "ipython3",
   "version": "3.8.2"
  }
 },
 "nbformat": 4,
 "nbformat_minor": 4
}
